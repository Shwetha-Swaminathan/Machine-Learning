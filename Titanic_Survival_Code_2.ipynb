{
  "nbformat": 4,
  "nbformat_minor": 0,
  "metadata": {
    "colab": {
      "provenance": []
    },
    "kernelspec": {
      "name": "python3",
      "display_name": "Python 3"
    },
    "language_info": {
      "name": "python"
    }
  },
  "cells": [
    {
      "cell_type": "code",
      "execution_count": 1,
      "metadata": {
        "id": "JceyyImzsD9_"
      },
      "outputs": [],
      "source": [
        "import pandas as pd\n",
        "import numpy as np"
      ]
    },
    {
      "cell_type": "code",
      "source": [
        "from google.colab import files\n",
        "upload = files.upload()"
      ],
      "metadata": {
        "colab": {
          "base_uri": "https://localhost:8080/",
          "height": 73
        },
        "id": "f4YFHVVwsIzk",
        "outputId": "c842f98f-3da3-4b62-83d7-cabc1608d2f2"
      },
      "execution_count": 4,
      "outputs": [
        {
          "output_type": "display_data",
          "data": {
            "text/plain": [
              "<IPython.core.display.HTML object>"
            ],
            "text/html": [
              "\n",
              "     <input type=\"file\" id=\"files-89cbeb0e-28c2-481e-bd8f-367fdddd550a\" name=\"files[]\" multiple disabled\n",
              "        style=\"border:none\" />\n",
              "     <output id=\"result-89cbeb0e-28c2-481e-bd8f-367fdddd550a\">\n",
              "      Upload widget is only available when the cell has been executed in the\n",
              "      current browser session. Please rerun this cell to enable.\n",
              "      </output>\n",
              "      <script>// Copyright 2017 Google LLC\n",
              "//\n",
              "// Licensed under the Apache License, Version 2.0 (the \"License\");\n",
              "// you may not use this file except in compliance with the License.\n",
              "// You may obtain a copy of the License at\n",
              "//\n",
              "//      http://www.apache.org/licenses/LICENSE-2.0\n",
              "//\n",
              "// Unless required by applicable law or agreed to in writing, software\n",
              "// distributed under the License is distributed on an \"AS IS\" BASIS,\n",
              "// WITHOUT WARRANTIES OR CONDITIONS OF ANY KIND, either express or implied.\n",
              "// See the License for the specific language governing permissions and\n",
              "// limitations under the License.\n",
              "\n",
              "/**\n",
              " * @fileoverview Helpers for google.colab Python module.\n",
              " */\n",
              "(function(scope) {\n",
              "function span(text, styleAttributes = {}) {\n",
              "  const element = document.createElement('span');\n",
              "  element.textContent = text;\n",
              "  for (const key of Object.keys(styleAttributes)) {\n",
              "    element.style[key] = styleAttributes[key];\n",
              "  }\n",
              "  return element;\n",
              "}\n",
              "\n",
              "// Max number of bytes which will be uploaded at a time.\n",
              "const MAX_PAYLOAD_SIZE = 100 * 1024;\n",
              "\n",
              "function _uploadFiles(inputId, outputId) {\n",
              "  const steps = uploadFilesStep(inputId, outputId);\n",
              "  const outputElement = document.getElementById(outputId);\n",
              "  // Cache steps on the outputElement to make it available for the next call\n",
              "  // to uploadFilesContinue from Python.\n",
              "  outputElement.steps = steps;\n",
              "\n",
              "  return _uploadFilesContinue(outputId);\n",
              "}\n",
              "\n",
              "// This is roughly an async generator (not supported in the browser yet),\n",
              "// where there are multiple asynchronous steps and the Python side is going\n",
              "// to poll for completion of each step.\n",
              "// This uses a Promise to block the python side on completion of each step,\n",
              "// then passes the result of the previous step as the input to the next step.\n",
              "function _uploadFilesContinue(outputId) {\n",
              "  const outputElement = document.getElementById(outputId);\n",
              "  const steps = outputElement.steps;\n",
              "\n",
              "  const next = steps.next(outputElement.lastPromiseValue);\n",
              "  return Promise.resolve(next.value.promise).then((value) => {\n",
              "    // Cache the last promise value to make it available to the next\n",
              "    // step of the generator.\n",
              "    outputElement.lastPromiseValue = value;\n",
              "    return next.value.response;\n",
              "  });\n",
              "}\n",
              "\n",
              "/**\n",
              " * Generator function which is called between each async step of the upload\n",
              " * process.\n",
              " * @param {string} inputId Element ID of the input file picker element.\n",
              " * @param {string} outputId Element ID of the output display.\n",
              " * @return {!Iterable<!Object>} Iterable of next steps.\n",
              " */\n",
              "function* uploadFilesStep(inputId, outputId) {\n",
              "  const inputElement = document.getElementById(inputId);\n",
              "  inputElement.disabled = false;\n",
              "\n",
              "  const outputElement = document.getElementById(outputId);\n",
              "  outputElement.innerHTML = '';\n",
              "\n",
              "  const pickedPromise = new Promise((resolve) => {\n",
              "    inputElement.addEventListener('change', (e) => {\n",
              "      resolve(e.target.files);\n",
              "    });\n",
              "  });\n",
              "\n",
              "  const cancel = document.createElement('button');\n",
              "  inputElement.parentElement.appendChild(cancel);\n",
              "  cancel.textContent = 'Cancel upload';\n",
              "  const cancelPromise = new Promise((resolve) => {\n",
              "    cancel.onclick = () => {\n",
              "      resolve(null);\n",
              "    };\n",
              "  });\n",
              "\n",
              "  // Wait for the user to pick the files.\n",
              "  const files = yield {\n",
              "    promise: Promise.race([pickedPromise, cancelPromise]),\n",
              "    response: {\n",
              "      action: 'starting',\n",
              "    }\n",
              "  };\n",
              "\n",
              "  cancel.remove();\n",
              "\n",
              "  // Disable the input element since further picks are not allowed.\n",
              "  inputElement.disabled = true;\n",
              "\n",
              "  if (!files) {\n",
              "    return {\n",
              "      response: {\n",
              "        action: 'complete',\n",
              "      }\n",
              "    };\n",
              "  }\n",
              "\n",
              "  for (const file of files) {\n",
              "    const li = document.createElement('li');\n",
              "    li.append(span(file.name, {fontWeight: 'bold'}));\n",
              "    li.append(span(\n",
              "        `(${file.type || 'n/a'}) - ${file.size} bytes, ` +\n",
              "        `last modified: ${\n",
              "            file.lastModifiedDate ? file.lastModifiedDate.toLocaleDateString() :\n",
              "                                    'n/a'} - `));\n",
              "    const percent = span('0% done');\n",
              "    li.appendChild(percent);\n",
              "\n",
              "    outputElement.appendChild(li);\n",
              "\n",
              "    const fileDataPromise = new Promise((resolve) => {\n",
              "      const reader = new FileReader();\n",
              "      reader.onload = (e) => {\n",
              "        resolve(e.target.result);\n",
              "      };\n",
              "      reader.readAsArrayBuffer(file);\n",
              "    });\n",
              "    // Wait for the data to be ready.\n",
              "    let fileData = yield {\n",
              "      promise: fileDataPromise,\n",
              "      response: {\n",
              "        action: 'continue',\n",
              "      }\n",
              "    };\n",
              "\n",
              "    // Use a chunked sending to avoid message size limits. See b/62115660.\n",
              "    let position = 0;\n",
              "    do {\n",
              "      const length = Math.min(fileData.byteLength - position, MAX_PAYLOAD_SIZE);\n",
              "      const chunk = new Uint8Array(fileData, position, length);\n",
              "      position += length;\n",
              "\n",
              "      const base64 = btoa(String.fromCharCode.apply(null, chunk));\n",
              "      yield {\n",
              "        response: {\n",
              "          action: 'append',\n",
              "          file: file.name,\n",
              "          data: base64,\n",
              "        },\n",
              "      };\n",
              "\n",
              "      let percentDone = fileData.byteLength === 0 ?\n",
              "          100 :\n",
              "          Math.round((position / fileData.byteLength) * 100);\n",
              "      percent.textContent = `${percentDone}% done`;\n",
              "\n",
              "    } while (position < fileData.byteLength);\n",
              "  }\n",
              "\n",
              "  // All done.\n",
              "  yield {\n",
              "    response: {\n",
              "      action: 'complete',\n",
              "    }\n",
              "  };\n",
              "}\n",
              "\n",
              "scope.google = scope.google || {};\n",
              "scope.google.colab = scope.google.colab || {};\n",
              "scope.google.colab._files = {\n",
              "  _uploadFiles,\n",
              "  _uploadFilesContinue,\n",
              "};\n",
              "})(self);\n",
              "</script> "
            ]
          },
          "metadata": {}
        },
        {
          "output_type": "stream",
          "name": "stdout",
          "text": [
            "Saving Titanic-Dataset.csv to Titanic-Dataset.csv\n"
          ]
        }
      ]
    },
    {
      "cell_type": "code",
      "source": [
        "dataset = pd.read_csv('Titanic-Dataset.csv')"
      ],
      "metadata": {
        "id": "NNTDpUhBsrdj"
      },
      "execution_count": 44,
      "outputs": []
    },
    {
      "cell_type": "code",
      "source": [
        "dataset = dataset.drop(columns=[\"PassengerId\", \"Name\",\"SibSp\"], errors='ignore')"
      ],
      "metadata": {
        "id": "rgHfn3hZsvUm"
      },
      "execution_count": 45,
      "outputs": []
    },
    {
      "cell_type": "code",
      "source": [
        "dataset.shape"
      ],
      "metadata": {
        "colab": {
          "base_uri": "https://localhost:8080/"
        },
        "id": "JH59-uQttD-t",
        "outputId": "b50b0e85-a7a8-4b7d-9609-423c5a04246c"
      },
      "execution_count": 46,
      "outputs": [
        {
          "output_type": "execute_result",
          "data": {
            "text/plain": [
              "(891, 5)"
            ]
          },
          "metadata": {},
          "execution_count": 46
        }
      ]
    },
    {
      "cell_type": "code",
      "source": [
        "dataset.head(10)"
      ],
      "metadata": {
        "colab": {
          "base_uri": "https://localhost:8080/",
          "height": 363
        },
        "id": "6AjbsiUKtF1z",
        "outputId": "d8fce0ef-30b1-4814-9280-3b0cdac14b46"
      },
      "execution_count": 47,
      "outputs": [
        {
          "output_type": "execute_result",
          "data": {
            "text/plain": [
              "   Pclass     Sex   Age     Fare  Survived\n",
              "0       3    male  22.0   7.2500       0.0\n",
              "1       1  female  38.0  71.2833       1.0\n",
              "2       3  female  26.0   7.9250       1.0\n",
              "3       1  female  35.0  53.1000       1.0\n",
              "4       3    male  35.0   8.0500       0.0\n",
              "5       3    male   NaN   8.4583       0.0\n",
              "6       1    male  54.0  51.8625       0.0\n",
              "7       3    male   2.0  21.0750       0.0\n",
              "8       3  female  27.0  11.1333       1.0\n",
              "9       2  female  14.0  30.0708       1.0"
            ],
            "text/html": [
              "\n",
              "  <div id=\"df-a03d9244-b1c3-466b-9249-4f58242e7b9c\" class=\"colab-df-container\">\n",
              "    <div>\n",
              "<style scoped>\n",
              "    .dataframe tbody tr th:only-of-type {\n",
              "        vertical-align: middle;\n",
              "    }\n",
              "\n",
              "    .dataframe tbody tr th {\n",
              "        vertical-align: top;\n",
              "    }\n",
              "\n",
              "    .dataframe thead th {\n",
              "        text-align: right;\n",
              "    }\n",
              "</style>\n",
              "<table border=\"1\" class=\"dataframe\">\n",
              "  <thead>\n",
              "    <tr style=\"text-align: right;\">\n",
              "      <th></th>\n",
              "      <th>Pclass</th>\n",
              "      <th>Sex</th>\n",
              "      <th>Age</th>\n",
              "      <th>Fare</th>\n",
              "      <th>Survived</th>\n",
              "    </tr>\n",
              "  </thead>\n",
              "  <tbody>\n",
              "    <tr>\n",
              "      <th>0</th>\n",
              "      <td>3</td>\n",
              "      <td>male</td>\n",
              "      <td>22.0</td>\n",
              "      <td>7.2500</td>\n",
              "      <td>0.0</td>\n",
              "    </tr>\n",
              "    <tr>\n",
              "      <th>1</th>\n",
              "      <td>1</td>\n",
              "      <td>female</td>\n",
              "      <td>38.0</td>\n",
              "      <td>71.2833</td>\n",
              "      <td>1.0</td>\n",
              "    </tr>\n",
              "    <tr>\n",
              "      <th>2</th>\n",
              "      <td>3</td>\n",
              "      <td>female</td>\n",
              "      <td>26.0</td>\n",
              "      <td>7.9250</td>\n",
              "      <td>1.0</td>\n",
              "    </tr>\n",
              "    <tr>\n",
              "      <th>3</th>\n",
              "      <td>1</td>\n",
              "      <td>female</td>\n",
              "      <td>35.0</td>\n",
              "      <td>53.1000</td>\n",
              "      <td>1.0</td>\n",
              "    </tr>\n",
              "    <tr>\n",
              "      <th>4</th>\n",
              "      <td>3</td>\n",
              "      <td>male</td>\n",
              "      <td>35.0</td>\n",
              "      <td>8.0500</td>\n",
              "      <td>0.0</td>\n",
              "    </tr>\n",
              "    <tr>\n",
              "      <th>5</th>\n",
              "      <td>3</td>\n",
              "      <td>male</td>\n",
              "      <td>NaN</td>\n",
              "      <td>8.4583</td>\n",
              "      <td>0.0</td>\n",
              "    </tr>\n",
              "    <tr>\n",
              "      <th>6</th>\n",
              "      <td>1</td>\n",
              "      <td>male</td>\n",
              "      <td>54.0</td>\n",
              "      <td>51.8625</td>\n",
              "      <td>0.0</td>\n",
              "    </tr>\n",
              "    <tr>\n",
              "      <th>7</th>\n",
              "      <td>3</td>\n",
              "      <td>male</td>\n",
              "      <td>2.0</td>\n",
              "      <td>21.0750</td>\n",
              "      <td>0.0</td>\n",
              "    </tr>\n",
              "    <tr>\n",
              "      <th>8</th>\n",
              "      <td>3</td>\n",
              "      <td>female</td>\n",
              "      <td>27.0</td>\n",
              "      <td>11.1333</td>\n",
              "      <td>1.0</td>\n",
              "    </tr>\n",
              "    <tr>\n",
              "      <th>9</th>\n",
              "      <td>2</td>\n",
              "      <td>female</td>\n",
              "      <td>14.0</td>\n",
              "      <td>30.0708</td>\n",
              "      <td>1.0</td>\n",
              "    </tr>\n",
              "  </tbody>\n",
              "</table>\n",
              "</div>\n",
              "    <div class=\"colab-df-buttons\">\n",
              "\n",
              "  <div class=\"colab-df-container\">\n",
              "    <button class=\"colab-df-convert\" onclick=\"convertToInteractive('df-a03d9244-b1c3-466b-9249-4f58242e7b9c')\"\n",
              "            title=\"Convert this dataframe to an interactive table.\"\n",
              "            style=\"display:none;\">\n",
              "\n",
              "  <svg xmlns=\"http://www.w3.org/2000/svg\" height=\"24px\" viewBox=\"0 -960 960 960\">\n",
              "    <path d=\"M120-120v-720h720v720H120Zm60-500h600v-160H180v160Zm220 220h160v-160H400v160Zm0 220h160v-160H400v160ZM180-400h160v-160H180v160Zm440 0h160v-160H620v160ZM180-180h160v-160H180v160Zm440 0h160v-160H620v160Z\"/>\n",
              "  </svg>\n",
              "    </button>\n",
              "\n",
              "  <style>\n",
              "    .colab-df-container {\n",
              "      display:flex;\n",
              "      gap: 12px;\n",
              "    }\n",
              "\n",
              "    .colab-df-convert {\n",
              "      background-color: #E8F0FE;\n",
              "      border: none;\n",
              "      border-radius: 50%;\n",
              "      cursor: pointer;\n",
              "      display: none;\n",
              "      fill: #1967D2;\n",
              "      height: 32px;\n",
              "      padding: 0 0 0 0;\n",
              "      width: 32px;\n",
              "    }\n",
              "\n",
              "    .colab-df-convert:hover {\n",
              "      background-color: #E2EBFA;\n",
              "      box-shadow: 0px 1px 2px rgba(60, 64, 67, 0.3), 0px 1px 3px 1px rgba(60, 64, 67, 0.15);\n",
              "      fill: #174EA6;\n",
              "    }\n",
              "\n",
              "    .colab-df-buttons div {\n",
              "      margin-bottom: 4px;\n",
              "    }\n",
              "\n",
              "    [theme=dark] .colab-df-convert {\n",
              "      background-color: #3B4455;\n",
              "      fill: #D2E3FC;\n",
              "    }\n",
              "\n",
              "    [theme=dark] .colab-df-convert:hover {\n",
              "      background-color: #434B5C;\n",
              "      box-shadow: 0px 1px 3px 1px rgba(0, 0, 0, 0.15);\n",
              "      filter: drop-shadow(0px 1px 2px rgba(0, 0, 0, 0.3));\n",
              "      fill: #FFFFFF;\n",
              "    }\n",
              "  </style>\n",
              "\n",
              "    <script>\n",
              "      const buttonEl =\n",
              "        document.querySelector('#df-a03d9244-b1c3-466b-9249-4f58242e7b9c button.colab-df-convert');\n",
              "      buttonEl.style.display =\n",
              "        google.colab.kernel.accessAllowed ? 'block' : 'none';\n",
              "\n",
              "      async function convertToInteractive(key) {\n",
              "        const element = document.querySelector('#df-a03d9244-b1c3-466b-9249-4f58242e7b9c');\n",
              "        const dataTable =\n",
              "          await google.colab.kernel.invokeFunction('convertToInteractive',\n",
              "                                                    [key], {});\n",
              "        if (!dataTable) return;\n",
              "\n",
              "        const docLinkHtml = 'Like what you see? Visit the ' +\n",
              "          '<a target=\"_blank\" href=https://colab.research.google.com/notebooks/data_table.ipynb>data table notebook</a>'\n",
              "          + ' to learn more about interactive tables.';\n",
              "        element.innerHTML = '';\n",
              "        dataTable['output_type'] = 'display_data';\n",
              "        await google.colab.output.renderOutput(dataTable, element);\n",
              "        const docLink = document.createElement('div');\n",
              "        docLink.innerHTML = docLinkHtml;\n",
              "        element.appendChild(docLink);\n",
              "      }\n",
              "    </script>\n",
              "  </div>\n",
              "\n",
              "\n",
              "<div id=\"df-03f97a9f-7935-45e2-8d2b-50783253ea19\">\n",
              "  <button class=\"colab-df-quickchart\" onclick=\"quickchart('df-03f97a9f-7935-45e2-8d2b-50783253ea19')\"\n",
              "            title=\"Suggest charts\"\n",
              "            style=\"display:none;\">\n",
              "\n",
              "<svg xmlns=\"http://www.w3.org/2000/svg\" height=\"24px\"viewBox=\"0 0 24 24\"\n",
              "     width=\"24px\">\n",
              "    <g>\n",
              "        <path d=\"M19 3H5c-1.1 0-2 .9-2 2v14c0 1.1.9 2 2 2h14c1.1 0 2-.9 2-2V5c0-1.1-.9-2-2-2zM9 17H7v-7h2v7zm4 0h-2V7h2v10zm4 0h-2v-4h2v4z\"/>\n",
              "    </g>\n",
              "</svg>\n",
              "  </button>\n",
              "\n",
              "<style>\n",
              "  .colab-df-quickchart {\n",
              "      --bg-color: #E8F0FE;\n",
              "      --fill-color: #1967D2;\n",
              "      --hover-bg-color: #E2EBFA;\n",
              "      --hover-fill-color: #174EA6;\n",
              "      --disabled-fill-color: #AAA;\n",
              "      --disabled-bg-color: #DDD;\n",
              "  }\n",
              "\n",
              "  [theme=dark] .colab-df-quickchart {\n",
              "      --bg-color: #3B4455;\n",
              "      --fill-color: #D2E3FC;\n",
              "      --hover-bg-color: #434B5C;\n",
              "      --hover-fill-color: #FFFFFF;\n",
              "      --disabled-bg-color: #3B4455;\n",
              "      --disabled-fill-color: #666;\n",
              "  }\n",
              "\n",
              "  .colab-df-quickchart {\n",
              "    background-color: var(--bg-color);\n",
              "    border: none;\n",
              "    border-radius: 50%;\n",
              "    cursor: pointer;\n",
              "    display: none;\n",
              "    fill: var(--fill-color);\n",
              "    height: 32px;\n",
              "    padding: 0;\n",
              "    width: 32px;\n",
              "  }\n",
              "\n",
              "  .colab-df-quickchart:hover {\n",
              "    background-color: var(--hover-bg-color);\n",
              "    box-shadow: 0 1px 2px rgba(60, 64, 67, 0.3), 0 1px 3px 1px rgba(60, 64, 67, 0.15);\n",
              "    fill: var(--button-hover-fill-color);\n",
              "  }\n",
              "\n",
              "  .colab-df-quickchart-complete:disabled,\n",
              "  .colab-df-quickchart-complete:disabled:hover {\n",
              "    background-color: var(--disabled-bg-color);\n",
              "    fill: var(--disabled-fill-color);\n",
              "    box-shadow: none;\n",
              "  }\n",
              "\n",
              "  .colab-df-spinner {\n",
              "    border: 2px solid var(--fill-color);\n",
              "    border-color: transparent;\n",
              "    border-bottom-color: var(--fill-color);\n",
              "    animation:\n",
              "      spin 1s steps(1) infinite;\n",
              "  }\n",
              "\n",
              "  @keyframes spin {\n",
              "    0% {\n",
              "      border-color: transparent;\n",
              "      border-bottom-color: var(--fill-color);\n",
              "      border-left-color: var(--fill-color);\n",
              "    }\n",
              "    20% {\n",
              "      border-color: transparent;\n",
              "      border-left-color: var(--fill-color);\n",
              "      border-top-color: var(--fill-color);\n",
              "    }\n",
              "    30% {\n",
              "      border-color: transparent;\n",
              "      border-left-color: var(--fill-color);\n",
              "      border-top-color: var(--fill-color);\n",
              "      border-right-color: var(--fill-color);\n",
              "    }\n",
              "    40% {\n",
              "      border-color: transparent;\n",
              "      border-right-color: var(--fill-color);\n",
              "      border-top-color: var(--fill-color);\n",
              "    }\n",
              "    60% {\n",
              "      border-color: transparent;\n",
              "      border-right-color: var(--fill-color);\n",
              "    }\n",
              "    80% {\n",
              "      border-color: transparent;\n",
              "      border-right-color: var(--fill-color);\n",
              "      border-bottom-color: var(--fill-color);\n",
              "    }\n",
              "    90% {\n",
              "      border-color: transparent;\n",
              "      border-bottom-color: var(--fill-color);\n",
              "    }\n",
              "  }\n",
              "</style>\n",
              "\n",
              "  <script>\n",
              "    async function quickchart(key) {\n",
              "      const quickchartButtonEl =\n",
              "        document.querySelector('#' + key + ' button');\n",
              "      quickchartButtonEl.disabled = true;  // To prevent multiple clicks.\n",
              "      quickchartButtonEl.classList.add('colab-df-spinner');\n",
              "      try {\n",
              "        const charts = await google.colab.kernel.invokeFunction(\n",
              "            'suggestCharts', [key], {});\n",
              "      } catch (error) {\n",
              "        console.error('Error during call to suggestCharts:', error);\n",
              "      }\n",
              "      quickchartButtonEl.classList.remove('colab-df-spinner');\n",
              "      quickchartButtonEl.classList.add('colab-df-quickchart-complete');\n",
              "    }\n",
              "    (() => {\n",
              "      let quickchartButtonEl =\n",
              "        document.querySelector('#df-03f97a9f-7935-45e2-8d2b-50783253ea19 button');\n",
              "      quickchartButtonEl.style.display =\n",
              "        google.colab.kernel.accessAllowed ? 'block' : 'none';\n",
              "    })();\n",
              "  </script>\n",
              "</div>\n",
              "\n",
              "    </div>\n",
              "  </div>\n"
            ],
            "application/vnd.google.colaboratory.intrinsic+json": {
              "type": "dataframe",
              "variable_name": "dataset",
              "summary": "{\n  \"name\": \"dataset\",\n  \"rows\": 891,\n  \"fields\": [\n    {\n      \"column\": \"Pclass\",\n      \"properties\": {\n        \"dtype\": \"number\",\n        \"std\": 0,\n        \"min\": 1,\n        \"max\": 3,\n        \"num_unique_values\": 3,\n        \"samples\": [\n          3,\n          1,\n          2\n        ],\n        \"semantic_type\": \"\",\n        \"description\": \"\"\n      }\n    },\n    {\n      \"column\": \"Sex\",\n      \"properties\": {\n        \"dtype\": \"category\",\n        \"num_unique_values\": 2,\n        \"samples\": [\n          \"female\",\n          \"male\"\n        ],\n        \"semantic_type\": \"\",\n        \"description\": \"\"\n      }\n    },\n    {\n      \"column\": \"Age\",\n      \"properties\": {\n        \"dtype\": \"number\",\n        \"std\": 14.526497332334044,\n        \"min\": 0.42,\n        \"max\": 80.0,\n        \"num_unique_values\": 88,\n        \"samples\": [\n          0.75,\n          22.0\n        ],\n        \"semantic_type\": \"\",\n        \"description\": \"\"\n      }\n    },\n    {\n      \"column\": \"Fare\",\n      \"properties\": {\n        \"dtype\": \"number\",\n        \"std\": 49.693428597180905,\n        \"min\": 0.0,\n        \"max\": 512.3292,\n        \"num_unique_values\": 248,\n        \"samples\": [\n          11.2417,\n          51.8625\n        ],\n        \"semantic_type\": \"\",\n        \"description\": \"\"\n      }\n    },\n    {\n      \"column\": \"Survived\",\n      \"properties\": {\n        \"dtype\": \"number\",\n        \"std\": 0.4869261727106963,\n        \"min\": 0.0,\n        \"max\": 1.0,\n        \"num_unique_values\": 2,\n        \"samples\": [\n          1.0,\n          0.0\n        ],\n        \"semantic_type\": \"\",\n        \"description\": \"\"\n      }\n    }\n  ]\n}"
            }
          },
          "metadata": {},
          "execution_count": 47
        }
      ]
    },
    {
      "cell_type": "code",
      "source": [
        "dataset['Sex'] = dataset['Sex'].map({'female': 0, 'male': 1})\n",
        "dataset['Sex'] = dataset['Sex'].fillna(-1)\n",
        "dataset['Survived'] = dataset['Survived'].fillna(-1)\n",
        "print(dataset)"
      ],
      "metadata": {
        "colab": {
          "base_uri": "https://localhost:8080/"
        },
        "id": "u6x6BMh9tQRR",
        "outputId": "7380232e-b84e-448f-8c9c-dc3a1dc6ac22"
      },
      "execution_count": 48,
      "outputs": [
        {
          "output_type": "stream",
          "name": "stdout",
          "text": [
            "     Pclass  Sex   Age     Fare  Survived\n",
            "0         3    1  22.0   7.2500       0.0\n",
            "1         1    0  38.0  71.2833       1.0\n",
            "2         3    0  26.0   7.9250       1.0\n",
            "3         1    0  35.0  53.1000       1.0\n",
            "4         3    1  35.0   8.0500       0.0\n",
            "..      ...  ...   ...      ...       ...\n",
            "886       2    1  27.0  13.0000      -1.0\n",
            "887       1    0  19.0  30.0000      -1.0\n",
            "888       3    0   NaN  23.4500      -1.0\n",
            "889       1    1  26.0  30.0000      -1.0\n",
            "890       3    1  32.0   7.7500      -1.0\n",
            "\n",
            "[891 rows x 5 columns]\n"
          ]
        }
      ]
    },
    {
      "cell_type": "code",
      "source": [
        "x=dataset.iloc[:,:-1].values\n",
        "print(x)"
      ],
      "metadata": {
        "colab": {
          "base_uri": "https://localhost:8080/"
        },
        "id": "zFI906B6thpO",
        "outputId": "25ab93ff-92ec-499f-f560-463812c61c49"
      },
      "execution_count": 49,
      "outputs": [
        {
          "output_type": "stream",
          "name": "stdout",
          "text": [
            "[[ 3.      1.     22.      7.25  ]\n",
            " [ 1.      0.     38.     71.2833]\n",
            " [ 3.      0.     26.      7.925 ]\n",
            " ...\n",
            " [ 3.      0.         nan 23.45  ]\n",
            " [ 1.      1.     26.     30.    ]\n",
            " [ 3.      1.     32.      7.75  ]]\n"
          ]
        }
      ]
    },
    {
      "cell_type": "code",
      "source": [
        "y=dataset.iloc[:,-1].values\n",
        "print(y)"
      ],
      "metadata": {
        "colab": {
          "base_uri": "https://localhost:8080/"
        },
        "id": "os8igBv-tllE",
        "outputId": "57930542-4182-4ba6-a461-b4c40935f419"
      },
      "execution_count": 50,
      "outputs": [
        {
          "output_type": "stream",
          "name": "stdout",
          "text": [
            "[ 0.  1.  1.  1.  0.  0.  0.  0.  1.  1.  1.  1.  0.  0.  0.  1.  0.  1.\n",
            "  0.  1.  0.  1.  1.  1.  0.  1.  0.  0.  1.  0.  0.  1.  1.  0.  0.  0.\n",
            "  1.  0.  0.  1.  0.  0.  0.  1.  1.  0.  0.  1.  0.  0.  0.  0.  1.  1.\n",
            "  0.  1.  1.  0.  1.  0.  0.  1.  0.  0.  0.  1.  1.  0.  1.  0.  0.  0.\n",
            "  0.  0.  1.  0.  0.  0.  1.  1.  0.  1.  1.  0.  1.  1.  0.  0.  1.  0.\n",
            "  0.  0.  0.  0.  0.  0.  0.  1.  1.  0.  0.  0.  0.  0.  0.  0.  1.  1.\n",
            "  0.  1.  0.  0.  0.  0.  0.  0.  0.  0.  0.  0.  0.  0.  0.  1.  0.  1.\n",
            "  0.  1.  1.  0.  0.  0.  0.  1.  0.  0.  1.  0.  0.  0.  0.  1.  1.  0.\n",
            "  0.  0.  1.  0.  0.  0.  0.  1.  0.  0.  0.  0.  1.  0.  0.  0.  0.  1.\n",
            "  0.  0.  0.  1.  1.  0.  0.  0.  0.  0.  1.  0.  0.  0.  0.  0.  0.  0.\n",
            "  0.  0.  0.  1.  1.  0.  1.  1.  0.  0.  1.  0.  1.  1.  1.  1.  0.  0.\n",
            "  1.  0.  0.  0.  0.  0.  1.  0.  0.  1.  1.  1.  0.  1.  0.  0.  0.  1.\n",
            "  1.  0.  1.  0.  1.  0.  0.  0.  1.  0.  1.  0.  0.  0.  1.  0.  0.  1.\n",
            "  0.  0.  0.  1.  0.  0.  0.  1.  0.  0.  0.  0.  0.  1.  1.  0.  0.  0.\n",
            "  0.  0.  0.  1.  1.  1.  1.  1.  0.  1.  0.  0.  0.  0.  0.  1.  1.  1.\n",
            "  0.  1.  1.  0.  1.  1.  0.  0.  0.  1.  0.  0.  0.  1.  0.  0.  1.  0.\n",
            "  1.  1.  1.  1.  0.  0.  0.  0.  0.  0.  1.  1.  1.  1.  0.  1.  0.  1.\n",
            "  1.  1.  0.  1.  1.  1.  0.  0.  0.  1.  1.  0.  1.  1.  0.  0.  1.  1.\n",
            "  0.  1.  0.  1.  1.  1.  1.  0.  0.  0.  1.  0.  0.  1.  1.  0.  1.  1.\n",
            "  0.  0.  0.  1.  1.  1.  1.  0.  0.  0.  0.  0.  0.  0.  1.  0.  1.  1.\n",
            "  0.  0.  0.  0.  0.  0.  1.  1.  1.  1.  1.  0.  0.  0.  0.  1.  1.  0.\n",
            "  0.  0.  1.  1.  0.  1.  0.  0.  0.  1.  0.  1.  1.  1.  0.  1.  1.  0.\n",
            "  0.  0.  0.  1.  1.  0.  0.  0.  0.  0.  0.  1.  0.  0.  0.  0.  1.  0.\n",
            "  1.  0.  1.  1.  0.  0.  0.  0.  0.  0.  0.  0.  1.  1.  0.  1.  1.  1.\n",
            "  1.  0.  0.  1.  0.  1.  0.  0.  1.  0.  0.  1.  1.  1.  1.  1.  1.  1.\n",
            "  0.  0.  0.  1.  0.  1.  0.  1.  1.  0.  1.  0.  0.  0.  0.  0.  0.  0.\n",
            "  0.  1.  0.  0.  1.  1.  0.  0.  0.  0.  0.  1.  0.  0.  0.  1.  1.  0.\n",
            "  1.  0.  0.  1.  0.  0.  0.  0.  0.  0.  1.  0.  0.  0.  0.  0.  0.  0.\n",
            "  1.  0.  1.  1.  0.  1.  1.  0.  1.  1.  0.  0.  1.  0.  1.  0.  1.  0.\n",
            "  0.  1.  0.  0.  1.  0.  0.  0.  1.  0.  0.  1.  0.  1.  0.  1.  0.  1.\n",
            "  1.  0.  0.  1.  0.  0.  1.  1.  0.  1.  1.  0.  0.  1.  1.  0.  1.  0.\n",
            "  1.  1.  0.  0.  0.  0.  0.  0.  0.  0.  0.  1.  1.  1.  1.  1.  0.  0.\n",
            "  1.  1.  0.  1.  1.  1.  0.  0.  0.  1.  0.  1.  0.  0.  0.  1.  0.  0.\n",
            "  0.  0.  1.  0.  0.  1.  1.  0.  0.  0.  1.  0.  0.  1.  1.  1.  0.  0.\n",
            "  1.  0.  0.  1.  0.  0.  1.  0.  0.  1.  1.  0.  0.  0.  0.  1.  0.  0.\n",
            "  1.  0.  1.  0.  0.  1.  0.  0.  0.  0.  0.  1.  0.  1.  1.  1.  0.  1.\n",
            "  0.  1.  0.  1.  0.  1.  0.  0.  0.  0.  0.  0.  1.  0.  0.  0.  1.  0.\n",
            "  0.  0.  0.  1.  1.  0.  0.  1.  0.  0.  0.  1.  0.  1.  0.  1.  0.  0.\n",
            "  0.  0.  0.  0.  0.  1.  1.  1.  1.  0.  0.  0.  0.  1.  0.  0.  1.  1.\n",
            "  0.  0.  0.  0.  1.  1.  1.  1.  1.  0.  1.  0.  0.  0.  1.  1.  0.  0.\n",
            "  1.  0.  0.  0.  1.  0.  1.  1.  0.  0.  1.  0.  0.  0.  0.  0.  0.  1.\n",
            "  0.  0.  1.  0.  1.  0.  1.  0.  0.  1.  0.  0.  1.  1.  0.  0.  1.  1.\n",
            "  0.  0.  0.  1.  0.  0.  1.  1.  0.  1.  0.  0.  0.  0.  0.  0.  0.  0.\n",
            "  1.  0.  0.  1.  0.  1.  1.  1.  0.  0.  0.  0.  1.  0.  1.  0.  0.  0.\n",
            "  0.  0.  0.  0.  1.  1.  0.  0.  0.  1.  1.  1.  1.  0.  0.  0.  0.  1.\n",
            "  0.  0.  0.  0.  0.  0.  0.  0.  0.  0.  1.  1.  0.  1.  0.  0.  0.  1.\n",
            "  1.  1.  1.  1.  0.  0.  0.  1. -1. -1. -1. -1. -1. -1. -1. -1. -1. -1.\n",
            " -1. -1. -1. -1. -1. -1. -1. -1. -1. -1. -1. -1. -1. -1. -1. -1. -1. -1.\n",
            " -1. -1. -1. -1. -1. -1. -1. -1. -1. -1. -1. -1. -1. -1. -1. -1. -1. -1.\n",
            " -1. -1. -1. -1. -1. -1. -1. -1. -1.]\n"
          ]
        }
      ]
    },
    {
      "cell_type": "code",
      "source": [
        "dataset.isna().any()"
      ],
      "metadata": {
        "colab": {
          "base_uri": "https://localhost:8080/",
          "height": 241
        },
        "id": "6T8v0jUvtpPT",
        "outputId": "a5faf87f-790d-461b-9bca-eadfbf64232c"
      },
      "execution_count": 51,
      "outputs": [
        {
          "output_type": "execute_result",
          "data": {
            "text/plain": [
              "Pclass      False\n",
              "Sex         False\n",
              "Age          True\n",
              "Fare        False\n",
              "Survived    False\n",
              "dtype: bool"
            ],
            "text/html": [
              "<div>\n",
              "<style scoped>\n",
              "    .dataframe tbody tr th:only-of-type {\n",
              "        vertical-align: middle;\n",
              "    }\n",
              "\n",
              "    .dataframe tbody tr th {\n",
              "        vertical-align: top;\n",
              "    }\n",
              "\n",
              "    .dataframe thead th {\n",
              "        text-align: right;\n",
              "    }\n",
              "</style>\n",
              "<table border=\"1\" class=\"dataframe\">\n",
              "  <thead>\n",
              "    <tr style=\"text-align: right;\">\n",
              "      <th></th>\n",
              "      <th>0</th>\n",
              "    </tr>\n",
              "  </thead>\n",
              "  <tbody>\n",
              "    <tr>\n",
              "      <th>Pclass</th>\n",
              "      <td>False</td>\n",
              "    </tr>\n",
              "    <tr>\n",
              "      <th>Sex</th>\n",
              "      <td>False</td>\n",
              "    </tr>\n",
              "    <tr>\n",
              "      <th>Age</th>\n",
              "      <td>True</td>\n",
              "    </tr>\n",
              "    <tr>\n",
              "      <th>Fare</th>\n",
              "      <td>False</td>\n",
              "    </tr>\n",
              "    <tr>\n",
              "      <th>Survived</th>\n",
              "      <td>False</td>\n",
              "    </tr>\n",
              "  </tbody>\n",
              "</table>\n",
              "</div><br><label><b>dtype:</b> bool</label>"
            ]
          },
          "metadata": {},
          "execution_count": 51
        }
      ]
    },
    {
      "cell_type": "code",
      "source": [
        "dataset['Age'] = dataset['Age'].fillna(dataset['Age'].mean())"
      ],
      "metadata": {
        "id": "u0kp9IVltsBU"
      },
      "execution_count": 52,
      "outputs": []
    },
    {
      "cell_type": "code",
      "source": [
        "dataset['Survived'] = dataset['Survived'].fillna(dataset['Survived'].mean())"
      ],
      "metadata": {
        "id": "Om0R7FZKtt5U"
      },
      "execution_count": 53,
      "outputs": []
    },
    {
      "cell_type": "code",
      "source": [
        "dataset.isna().any()"
      ],
      "metadata": {
        "colab": {
          "base_uri": "https://localhost:8080/",
          "height": 241
        },
        "id": "FHM0aFH1tytw",
        "outputId": "1b62eaa2-4961-44a3-9f6a-83414229163b"
      },
      "execution_count": 54,
      "outputs": [
        {
          "output_type": "execute_result",
          "data": {
            "text/plain": [
              "Pclass      False\n",
              "Sex         False\n",
              "Age         False\n",
              "Fare        False\n",
              "Survived    False\n",
              "dtype: bool"
            ],
            "text/html": [
              "<div>\n",
              "<style scoped>\n",
              "    .dataframe tbody tr th:only-of-type {\n",
              "        vertical-align: middle;\n",
              "    }\n",
              "\n",
              "    .dataframe tbody tr th {\n",
              "        vertical-align: top;\n",
              "    }\n",
              "\n",
              "    .dataframe thead th {\n",
              "        text-align: right;\n",
              "    }\n",
              "</style>\n",
              "<table border=\"1\" class=\"dataframe\">\n",
              "  <thead>\n",
              "    <tr style=\"text-align: right;\">\n",
              "      <th></th>\n",
              "      <th>0</th>\n",
              "    </tr>\n",
              "  </thead>\n",
              "  <tbody>\n",
              "    <tr>\n",
              "      <th>Pclass</th>\n",
              "      <td>False</td>\n",
              "    </tr>\n",
              "    <tr>\n",
              "      <th>Sex</th>\n",
              "      <td>False</td>\n",
              "    </tr>\n",
              "    <tr>\n",
              "      <th>Age</th>\n",
              "      <td>False</td>\n",
              "    </tr>\n",
              "    <tr>\n",
              "      <th>Fare</th>\n",
              "      <td>False</td>\n",
              "    </tr>\n",
              "    <tr>\n",
              "      <th>Survived</th>\n",
              "      <td>False</td>\n",
              "    </tr>\n",
              "  </tbody>\n",
              "</table>\n",
              "</div><br><label><b>dtype:</b> bool</label>"
            ]
          },
          "metadata": {},
          "execution_count": 54
        }
      ]
    },
    {
      "cell_type": "code",
      "source": [
        "from sklearn.model_selection import train_test_split\n",
        "x_train,x_test,y_train,y_test = train_test_split(x,y,test_size = 0.2, random_state=0)"
      ],
      "metadata": {
        "id": "btygYYvYt3B6"
      },
      "execution_count": 55,
      "outputs": []
    },
    {
      "cell_type": "code",
      "source": [
        "from sklearn.preprocessing import StandardScaler\n",
        "sc = StandardScaler()\n",
        "x_train = sc.fit_transform(x_train)\n",
        "x_test = sc.transform(x_test)\n",
        "print(x_train,x_test)"
      ],
      "metadata": {
        "colab": {
          "base_uri": "https://localhost:8080/"
        },
        "id": "0KeG5OJXt5Me",
        "outputId": "4bf8fcf7-e6ac-43b1-8ec6-966ff9cb8d71"
      },
      "execution_count": 56,
      "outputs": [
        {
          "output_type": "stream",
          "name": "stdout",
          "text": [
            "[[ 0.81925059 -1.37207547         nan -0.33167904]\n",
            " [-0.38096838  0.72882288  0.0859096  -0.42640542]\n",
            " [-0.38096838  0.72882288  0.0859096   0.10261958]\n",
            " ...\n",
            " [ 0.81925059  0.72882288         nan -0.48162887]\n",
            " [ 0.81925059 -1.37207547  0.42822906 -0.28868112]\n",
            " [-0.38096838  0.72882288  2.0713625   0.14245584]] [[ 0.81925059  0.72882288         nan -0.34739758]\n",
            " [ 0.81925059  0.72882288         nan -0.48528755]\n",
            " [ 0.81925059  0.72882288 -1.55722384 -0.0546496 ]\n",
            " [-1.58118735 -1.37207547         nan  2.28857574]\n",
            " [ 0.81925059 -1.37207547 -0.05101819 -0.33167904]\n",
            " [-1.58118735  0.72882288         nan -0.02720454]\n",
            " [-1.58118735 -1.37207547  0.70208463  2.42713238]\n",
            " [-1.58118735 -1.37207547  0.0859096   2.65476071]\n",
            " [-1.58118735  0.72882288 -0.32487376  1.18195896]\n",
            " [ 0.81925059 -1.37207547         nan -0.49169073]\n",
            " [ 0.81925059  0.72882288 -0.25640987 -0.4792157 ]\n",
            " [-0.38096838 -1.37207547  0.70208463 -0.37650531]\n",
            " [ 0.81925059  0.72882288         nan -0.48129554]\n",
            " [-0.38096838 -1.37207547 -1.55722384 -0.11203473]\n",
            " [-1.58118735 -1.37207547 -0.39333766  1.02385745]\n",
            " [ 0.81925059 -1.37207547 -1.07797659 -0.4792157 ]\n",
            " [ 0.81925059  0.72882288 -0.46180155 -0.45185448]\n",
            " [-0.38096838  0.72882288 -0.73565712  0.09754574]\n",
            " [ 0.81925059  0.72882288  0.35976517 -0.47530753]\n",
            " [ 0.81925059  0.72882288 -2.00771625 -0.46599218]\n",
            " [-0.38096838  0.72882288 -0.80412101 -0.40644538]\n",
            " [-1.58118735 -1.37207547 -0.53026544  2.38895879]\n",
            " [ 0.81925059  0.72882288         nan -0.48154504]\n",
            " [-1.58118735  0.72882288         nan -0.01722452]\n",
            " [ 0.81925059 -1.37207547 -0.53026544 -0.43962895]\n",
            " [-1.58118735 -1.37207547  0.70208463  2.04864004]\n",
            " [ 0.81925059  0.72882288  0.15437349 -0.47838537]\n",
            " [ 0.81925059 -1.37207547 -0.53026544 -0.48129554]\n",
            " [-0.38096838 -1.37207547 -0.32487376 -0.11702474]\n",
            " [ 0.81925059 -1.37207547 -1.8995433  -0.07910065]\n",
            " [ 0.81925059  0.72882288  0.22283738 -0.463082  ]\n",
            " [-0.38096838 -1.37207547  1.38672357 -0.42640542]\n",
            " [ 0.81925059  0.72882288 -0.11948208 -0.44636546]\n",
            " [-1.58118735  0.72882288         nan  0.07259568]\n",
            " [ 0.81925059  0.72882288 -0.05101819 -0.4953514 ]\n",
            " [-1.58118735  0.72882288  0.15437349 -0.02720454]\n",
            " [ 0.81925059  0.72882288  0.90747631 -0.5072436 ]\n",
            " [-0.38096838  0.72882288 -0.11948208 -0.42640542]\n",
            " [-0.38096838  0.72882288 -0.32487376 -0.37650531]\n",
            " [-0.38096838  0.72882288  1.66057914 -0.35654527]\n",
            " [-1.58118735  0.72882288  2.0713625   0.94484961]\n",
            " [ 0.81925059  0.72882288 -0.32487376 -0.49177456]\n",
            " [ 0.81925059  0.72882288         nan -0.34656524]\n",
            " [ 0.81925059  0.72882288 -1.07797659  0.15617837]\n",
            " [-1.58118735 -1.37207547  0.35976517  1.03017879]\n",
            " [ 0.81925059  0.72882288         nan -0.47838537]\n",
            " [ 0.81925059  0.72882288         nan -0.47838537]\n",
            " [-1.58118735 -1.37207547 -0.80412101  4.60103068]\n",
            " [-0.38096838  0.72882288  0.63362074 -0.37650531]\n",
            " [-1.58118735  0.72882288  1.52365135  0.95383163]\n",
            " [-1.58118735  0.72882288         nan -0.03718456]\n",
            " [-1.58118735  0.72882288 -0.46180155  0.62864858]\n",
            " [-0.38096838 -1.37207547 -1.76261552 -0.17690487]\n",
            " [ 0.81925059  0.72882288 -0.73565712 -0.47838537]\n",
            " [-1.58118735  0.72882288         nan -0.04317257]\n",
            " [-0.38096838  0.72882288 -0.39333766  0.83107736]\n",
            " [-1.58118735  0.72882288  2.20829028 -0.10604671]\n",
            " [ 0.81925059 -1.37207547 -1.28336827 -0.01173551]\n",
            " [ 0.81925059  0.72882288 -1.35183216 -0.07910065]\n",
            " [ 0.81925059  0.72882288         nan -0.17191486]\n",
            " [ 0.81925059  0.72882288 -0.53026544 -0.49169073]\n",
            " [ 0.81925059 -1.37207547 -0.05101819 -0.21532795]\n",
            " [-1.58118735 -1.37207547  1.66057914  0.9262209 ]\n",
            " [-1.58118735  0.72882288         nan  0.15443186]\n",
            " [ 0.81925059 -1.37207547 -0.18794598 -0.41376472]\n",
            " [ 0.81925059  0.72882288  0.15437349 -0.48129554]\n",
            " [-1.58118735 -1.37207547  1.31825967 -0.11843791]\n",
            " [-0.38096838  0.72882288 -0.11948208  0.02269557]\n",
            " [-0.38096838 -1.37207547 -1.8995433  -0.11702474]\n",
            " [-1.58118735 -1.37207547 -0.73565712 -0.03718456]\n",
            " [-0.38096838 -1.37207547 -0.39333766 -0.11702474]\n",
            " [-1.58118735  0.72882288  1.24979578  0.40193641]\n",
            " [-1.58118735  0.72882288 -0.11948208  1.00414691]\n",
            " [ 0.81925059  0.72882288         nan -0.47530753]\n",
            " [ 0.81925059  0.72882288 -0.35910571 -0.47530753]\n",
            " [-0.38096838 -1.37207547  0.0174457  -0.21682496]\n",
            " [-1.58118735  0.72882288 -0.73565712  4.6135057 ]\n",
            " [-1.58118735  0.72882288  0.70208463 -0.08267749]\n",
            " [ 0.81925059  0.72882288  0.29130128 -0.50632943]\n",
            " [-0.38096838  0.72882288         nan -0.33558722]\n",
            " [ 0.81925059  0.72882288         nan -0.15395082]\n",
            " [ 0.81925059  0.72882288 -1.42029605 -0.31862118]\n",
            " [-0.38096838 -1.37207547 -0.25640987 -0.11702474]\n",
            " [ 0.81925059  0.72882288 -0.9410488  -0.48079654]\n",
            " [-0.38096838  0.72882288  1.11286799 -0.11702474]\n",
            " [-1.58118735 -1.37207547 -0.59872933  0.92006522]\n",
            " [-1.58118735 -1.37207547  0.83901242  3.90542314]\n",
            " [ 0.81925059 -1.37207547  2.27675418 -0.44461896]\n",
            " [-0.38096838 -1.37207547  0.29130128 -0.42640542]\n",
            " [-1.58118735  0.72882288 -0.80412101  1.53766291]\n",
            " [-1.58118735  0.72882288         nan -0.63598588]\n",
            " [ 0.81925059  0.72882288 -0.73565712 -0.47838537]\n",
            " [-0.38096838  0.72882288 -1.83107941 -0.11702474]\n",
            " [-1.58118735 -1.37207547  0.97594021  0.5212815 ]\n",
            " [ 0.81925059 -1.37207547 -1.42029605 -0.07910065]\n",
            " [ 0.81925059  0.72882288         nan -0.49169073]\n",
            " [-0.38096838 -1.37207547 -0.39333766 -0.34656524]\n",
            " [ 0.81925059  0.72882288 -0.9410488   0.15617837]\n",
            " [-1.58118735  0.72882288  2.0713625  -0.10604671]\n",
            " [-1.58118735  0.72882288 -0.18794598  0.89553233]\n",
            " [ 0.81925059  0.72882288 -1.07797659  0.30014018]\n",
            " [-0.38096838  0.72882288  1.66057914 -0.11702474]\n",
            " [ 0.81925059  0.72882288 -0.73565712 -0.48329155]\n",
            " [ 0.81925059  0.72882288 -0.80412101 -0.4792157 ]\n",
            " [ 0.81925059 -1.37207547 -0.05101819 -0.42715392]\n",
            " [ 0.81925059 -1.37207547  0.35976517 -0.23179499]\n",
            " [-0.38096838 -1.37207547 -0.11948208 -0.38349133]\n",
            " [ 0.81925059 -1.37207547  0.77054853  0.15617837]\n",
            " [-0.38096838  0.72882288 -0.32487376 -0.11702474]\n",
            " [ 0.81925059 -1.37207547         nan -0.3266052 ]\n",
            " [ 0.81925059  0.72882288  1.24979578 -0.4792157 ]\n",
            " [-1.58118735 -1.37207547 -0.53026544  0.46181654]\n",
            " [ 0.81925059  0.72882288  0.15437349  0.49167277]\n",
            " [ 0.81925059 -1.37207547         nan -0.47530753]\n",
            " [-1.58118735  0.72882288  0.42822906  1.7592194 ]\n",
            " [-0.38096838 -1.37207547 -0.11948208 -0.37650531]\n",
            " [ 0.81925059 -1.37207547 -0.39333766 -0.31961918]\n",
            " [-1.58118735 -1.37207547 -0.80412101  3.90542314]\n",
            " [ 0.81925059  0.72882288  0.70208463 -0.47838537]\n",
            " [-0.38096838 -1.37207547  1.0444041  -0.11203473]\n",
            " [ 0.81925059  0.72882288         nan  0.49167277]\n",
            " [ 0.81925059  0.72882288         nan -0.46715784]\n",
            " [ 0.81925059  0.72882288 -0.66719323 -0.463082  ]\n",
            " [-1.58118735  0.72882288  0.56515685 -0.63598588]\n",
            " [ 0.81925059  0.72882288  0.22283738 -0.46324767]\n",
            " [-1.58118735  0.72882288  1.93443471 -0.04317257]\n",
            " [ 0.81925059  0.72882288         nan -0.49177456]\n",
            " [ 0.81925059  0.72882288 -0.32487376 -0.48079654]\n",
            " [-0.38096838  0.72882288         nan -0.63598588]\n",
            " [-0.38096838  0.72882288  1.45518746 -0.38598633]\n",
            " [ 0.81925059 -1.37207547 -0.59872933 -0.48129554]\n",
            " [ 0.81925059  0.72882288 -0.59872933 -0.47530753]\n",
            " [ 0.81925059  0.72882288 -0.32487376 -0.49526757]\n",
            " [ 0.81925059 -1.37207547 -0.66719323 -0.43987845]\n",
            " [-1.58118735  0.72882288  2.34521807 -0.11702474]\n",
            " [ 0.81925059  0.72882288 -0.59872933 -0.47530753]\n",
            " [ 0.81925059  0.72882288         nan -0.48129554]\n",
            " [ 0.81925059 -1.37207547  0.70208463 -0.44686447]\n",
            " [-0.38096838  0.72882288  0.97594021 -0.11702474]\n",
            " [-0.38096838  0.72882288 -0.46180155 -0.37650531]\n",
            " [-0.38096838  0.72882288 -0.11948208 -0.37650531]\n",
            " [-1.58118735 -1.37207547  0.22283738  1.16041808]\n",
            " [ 0.81925059  0.72882288         nan -0.47530753]\n",
            " [ 0.81925059 -1.37207547 -0.80412101 -0.50125559]\n",
            " [-0.38096838 -1.37207547         nan  0.02269557]\n",
            " [ 0.81925059 -1.37207547 -0.39333766 -0.45933949]\n",
            " [-0.38096838  0.72882288  0.0174457  -0.37650531]\n",
            " [-0.38096838 -1.37207547  0.83901242 -0.11702474]\n",
            " [-1.58118735 -1.37207547  1.38672357  4.30454019]\n",
            " [ 0.81925059  0.72882288         nan -0.463082  ]\n",
            " [-1.58118735  0.72882288  1.0444041   1.03017879]\n",
            " [ 0.81925059 -1.37207547  0.0174457  -0.38698433]\n",
            " [ 0.81925059 -1.37207547  0.49669295 -0.44461896]\n",
            " [ 0.81925059  0.72882288 -0.05101819 -0.48079654]\n",
            " [-0.38096838 -1.37207547 -0.87258491 -0.39646535]\n",
            " [-0.38096838  0.72882288 -0.25640987 -0.42640542]\n",
            " [ 0.81925059 -1.37207547  1.0444041  -0.34747941]\n",
            " [-0.38096838  0.72882288  2.20829028 -0.42640542]\n",
            " [ 0.81925059 -1.37207547         nan -0.48129554]\n",
            " [ 0.81925059 -1.37207547 -1.98512317 -0.25158937]\n",
            " [ 0.81925059  0.72882288         nan -0.47838537]\n",
            " [ 0.81925059  0.72882288 -0.66719323 -0.49169073]\n",
            " [-1.58118735 -1.37207547  1.66057914  0.54964073]\n",
            " [ 0.81925059 -1.37207547  0.22283738 -0.31961918]\n",
            " [ 0.81925059  0.72882288 -1.00951269 -0.49169073]\n",
            " [ 0.81925059  0.72882288 -0.32487376 -0.48329155]\n",
            " [ 0.81925059  0.72882288  1.45518746 -0.49518374]\n",
            " [ 0.81925059  0.72882288 -0.53026544 -0.48038137]\n",
            " [ 0.81925059  0.72882288 -0.39333766 -0.47838537]\n",
            " [ 0.81925059  0.72882288 -0.87258491 -0.463082  ]\n",
            " [ 0.81925059  0.72882288  1.45518746 -0.47530753]\n",
            " [-1.58118735 -1.37207547  0.56515685  0.78683193]\n",
            " [ 0.81925059  0.72882288         nan -0.49127556]\n",
            " [ 0.81925059  0.72882288         nan -0.34656524]\n",
            " [ 0.81925059 -1.37207547 -1.14644048 -0.49169073]\n",
            " [ 0.81925059  0.72882288         nan -0.47530753]\n",
            " [-1.58118735 -1.37207547  0.0859096   1.62498811]\n",
            " [ 0.81925059  0.72882288 -0.46180155 -0.4792157 ]\n",
            " [ 0.81925059  0.72882288 -0.73565712 -0.47530753]]\n"
          ]
        }
      ]
    },
    {
      "cell_type": "code",
      "source": [
        "from sklearn.naive_bayes import GaussianNB\n",
        "from sklearn.metrics import accuracy_score, confusion_matrix, classification_report"
      ],
      "metadata": {
        "id": "gjYjgDzbt7_x"
      },
      "execution_count": 41,
      "outputs": []
    },
    {
      "cell_type": "code",
      "source": [
        "print(np.any(np.isnan(x_train)))"
      ],
      "metadata": {
        "colab": {
          "base_uri": "https://localhost:8080/"
        },
        "id": "RmlAENW4w5Mo",
        "outputId": "fd37b1e3-eb06-41c8-e252-cf0e5ae36be2"
      },
      "execution_count": 58,
      "outputs": [
        {
          "output_type": "stream",
          "name": "stdout",
          "text": [
            "True\n"
          ]
        }
      ]
    },
    {
      "cell_type": "code",
      "source": [
        "from sklearn.impute import SimpleImputer\n",
        "imputer = SimpleImputer(strategy='mean')\n",
        "x_train = imputer.fit_transform(x_train)\n",
        "x_test = imputer.transform(x_test)"
      ],
      "metadata": {
        "id": "fOxHfMlI3cZZ"
      },
      "execution_count": 59,
      "outputs": []
    },
    {
      "cell_type": "code",
      "source": [
        "model = GaussianNB()\n",
        "model.fit(x_train, y_train)\n",
        "y_pred = model.predict(x_test)"
      ],
      "metadata": {
        "id": "NqCz3jPK3iGv"
      },
      "execution_count": 60,
      "outputs": []
    },
    {
      "cell_type": "code",
      "source": [
        "y_pred = model.predict(x_test)"
      ],
      "metadata": {
        "id": "n23LXNJc3nby"
      },
      "execution_count": 62,
      "outputs": []
    },
    {
      "cell_type": "code",
      "source": [
        "accuracy = accuracy_score(y_test, y_pred)\n",
        "conf_matrix = confusion_matrix(y_test, y_pred)\n",
        "report = classification_report(y_test, y_pred)\n",
        "\n",
        "print(f\"Accuracy: {accuracy}\")\n",
        "print(\"Confusion Matrix:\")\n",
        "print(conf_matrix)\n",
        "print(\"Classification Report:\")\n",
        "print(report)"
      ],
      "metadata": {
        "colab": {
          "base_uri": "https://localhost:8080/"
        },
        "id": "mXTWvRsx3wFr",
        "outputId": "d70ab043-2b4f-46f2-e022-c46e21392a12"
      },
      "execution_count": 63,
      "outputs": [
        {
          "output_type": "stream",
          "name": "stdout",
          "text": [
            "Accuracy: 0.7430167597765364\n",
            "Confusion Matrix:\n",
            "[[ 0  7  2]\n",
            " [ 0 83 22]\n",
            " [ 0 15 50]]\n",
            "Classification Report:\n",
            "              precision    recall  f1-score   support\n",
            "\n",
            "        -1.0       0.00      0.00      0.00         9\n",
            "         0.0       0.79      0.79      0.79       105\n",
            "         1.0       0.68      0.77      0.72        65\n",
            "\n",
            "    accuracy                           0.74       179\n",
            "   macro avg       0.49      0.52      0.50       179\n",
            "weighted avg       0.71      0.74      0.72       179\n",
            "\n"
          ]
        },
        {
          "output_type": "stream",
          "name": "stderr",
          "text": [
            "/usr/local/lib/python3.10/dist-packages/sklearn/metrics/_classification.py:1565: UndefinedMetricWarning: Precision is ill-defined and being set to 0.0 in labels with no predicted samples. Use `zero_division` parameter to control this behavior.\n",
            "  _warn_prf(average, modifier, f\"{metric.capitalize()} is\", len(result))\n",
            "/usr/local/lib/python3.10/dist-packages/sklearn/metrics/_classification.py:1565: UndefinedMetricWarning: Precision is ill-defined and being set to 0.0 in labels with no predicted samples. Use `zero_division` parameter to control this behavior.\n",
            "  _warn_prf(average, modifier, f\"{metric.capitalize()} is\", len(result))\n",
            "/usr/local/lib/python3.10/dist-packages/sklearn/metrics/_classification.py:1565: UndefinedMetricWarning: Precision is ill-defined and being set to 0.0 in labels with no predicted samples. Use `zero_division` parameter to control this behavior.\n",
            "  _warn_prf(average, modifier, f\"{metric.capitalize()} is\", len(result))\n"
          ]
        }
      ]
    },
    {
      "cell_type": "code",
      "source": [
        "pclass = int(input(\"Enter Class of Travel:\"))\n",
        "sex = int(input(\"Enter your gender:\"))\n",
        "age = int(input(\"Enter your age:\"))\n",
        "fare = float(input(\"Enter the trip fare:\"))\n",
        "new = [[pclass,sex,age,fare]]\n",
        "result = model.predict(sc.transform(new))\n",
        "print(result)\n",
        "if result == 1:\n",
        "  print(\"The passenger will survive\")\n",
        "else:\n",
        "  print(\"The passanger may not survive\")"
      ],
      "metadata": {
        "colab": {
          "base_uri": "https://localhost:8080/"
        },
        "id": "YkHh35qp300i",
        "outputId": "cd4a8f3d-f8b9-4b99-e6a6-0e8af273cef6"
      },
      "execution_count": 65,
      "outputs": [
        {
          "output_type": "stream",
          "name": "stdout",
          "text": [
            "Enter Class of Travel:3\n",
            "Enter your gender:1\n",
            "Enter your age:2\n",
            "Enter the trip fare:7.25\n",
            "[0.]\n",
            "The passanger may not survive\n"
          ]
        }
      ]
    },
    {
      "cell_type": "code",
      "source": [
        "from sklearn.metrics import classification_report\n",
        "print(classification_report(y_test, y_pred))"
      ],
      "metadata": {
        "colab": {
          "base_uri": "https://localhost:8080/"
        },
        "id": "pnr2GKTq6Aha",
        "outputId": "c510c9f1-a7e3-459b-9e16-e1dea3dbe70e"
      },
      "execution_count": 67,
      "outputs": [
        {
          "output_type": "stream",
          "name": "stdout",
          "text": [
            "              precision    recall  f1-score   support\n",
            "\n",
            "        -1.0       0.00      0.00      0.00         9\n",
            "         0.0       0.79      0.79      0.79       105\n",
            "         1.0       0.68      0.77      0.72        65\n",
            "\n",
            "    accuracy                           0.74       179\n",
            "   macro avg       0.49      0.52      0.50       179\n",
            "weighted avg       0.71      0.74      0.72       179\n",
            "\n"
          ]
        },
        {
          "output_type": "stream",
          "name": "stderr",
          "text": [
            "/usr/local/lib/python3.10/dist-packages/sklearn/metrics/_classification.py:1565: UndefinedMetricWarning: Precision is ill-defined and being set to 0.0 in labels with no predicted samples. Use `zero_division` parameter to control this behavior.\n",
            "  _warn_prf(average, modifier, f\"{metric.capitalize()} is\", len(result))\n",
            "/usr/local/lib/python3.10/dist-packages/sklearn/metrics/_classification.py:1565: UndefinedMetricWarning: Precision is ill-defined and being set to 0.0 in labels with no predicted samples. Use `zero_division` parameter to control this behavior.\n",
            "  _warn_prf(average, modifier, f\"{metric.capitalize()} is\", len(result))\n",
            "/usr/local/lib/python3.10/dist-packages/sklearn/metrics/_classification.py:1565: UndefinedMetricWarning: Precision is ill-defined and being set to 0.0 in labels with no predicted samples. Use `zero_division` parameter to control this behavior.\n",
            "  _warn_prf(average, modifier, f\"{metric.capitalize()} is\", len(result))\n"
          ]
        }
      ]
    },
    {
      "cell_type": "code",
      "source": [
        "from sklearn.metrics import confusion_matrix\n",
        "cm = confusion_matrix(y_test, y_pred)\n",
        "print(\"Confusion Matrix:\")\n",
        "print(cm)"
      ],
      "metadata": {
        "colab": {
          "base_uri": "https://localhost:8080/"
        },
        "id": "o1m6Mv0i6Ohh",
        "outputId": "1df63d03-e501-4e9b-9046-04dddbbaa856"
      },
      "execution_count": 69,
      "outputs": [
        {
          "output_type": "stream",
          "name": "stdout",
          "text": [
            "Confusion Matrix:\n",
            "[[ 0  7  2]\n",
            " [ 0 83 22]\n",
            " [ 0 15 50]]\n"
          ]
        }
      ]
    },
    {
      "cell_type": "code",
      "source": [
        "import seaborn as sns\n",
        "import matplotlib.pyplot as plt\n",
        "\n",
        "sns.heatmap(cm, annot=True, fmt=\"d\", cmap=\"Blues\",\n",
        "            xticklabels=[\"Class 0\", \"Class 1\", \"Class 2\"],\n",
        "            yticklabels=[\"Class 0\", \"Class 1\", \"Class 2\"])\n",
        "plt.xlabel(\"Predicted Labels\")\n",
        "plt.ylabel(\"True Labels\")\n",
        "plt.title(\"Confusion Matrix Heatmap\")\n",
        "plt.show()"
      ],
      "metadata": {
        "colab": {
          "base_uri": "https://localhost:8080/",
          "height": 472
        },
        "id": "XO9UWC9_6FUb",
        "outputId": "6d9743df-e423-4185-e73c-4a58a265b2d6"
      },
      "execution_count": 70,
      "outputs": [
        {
          "output_type": "display_data",
          "data": {
            "text/plain": [
              "<Figure size 640x480 with 2 Axes>"
            ],
            "image/png": "[encoded data removed]"
          },
          "metadata": {}
        }
      ]
    },
    {
      "cell_type": "code",
      "source": [],
      "metadata": {
        "id": "xO7K_TkB7gbr"
      },
      "execution_count": null,
      "outputs": []
    }
  ]
}